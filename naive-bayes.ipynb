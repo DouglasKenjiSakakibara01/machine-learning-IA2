{
 "cells": [
  {
   "cell_type": "code",
   "execution_count": 25,
   "metadata": {},
   "outputs": [],
   "source": [
    "import pandas as pd\n",
    "import csv\n",
    "from sklearn.feature_extraction.text import TfidfVectorizer\n",
    "from sklearn.metrics import accuracy_score, classification_report\n",
    "from sklearn.model_selection import train_test_split\n",
    "from sklearn.naive_bayes import GaussianNB, MultinomialNB, BernoulliNB"
   ]
  },
  {
   "cell_type": "code",
   "execution_count": 26,
   "metadata": {},
   "outputs": [],
   "source": [
    "dataset = []\n",
    "labels = []\n",
    "\n",
    "with open('sentiment-analysis.csv', newline='') as csvfile:\n",
    "    reader = csv.reader(csvfile)\n",
    "    next(reader)\n",
    "    for row in reader:\n",
    "        result = str(row[0]).split(\",\")\n",
    "        if len(result) > 1: \n",
    "            dataset.append(result[0])\n",
    "            labels.append(result[1])"
   ]
  },
  {
   "cell_type": "code",
   "execution_count": 27,
   "metadata": {},
   "outputs": [],
   "source": [
    "# vetorização dos textos\n",
    "vectorizer = TfidfVectorizer()\n",
    "X = vectorizer.fit_transform(dataset).toarray()\n",
    "\n",
    "gnb = GaussianNB()\n",
    "mnb = MultinomialNB()\n",
    "bnb = BernoulliNB()"
   ]
  },
  {
   "cell_type": "code",
   "execution_count": 28,
   "metadata": {},
   "outputs": [],
   "source": [
    "############# Holdout ############################\n",
    "def holdout(classifier):\n",
    "    # 30% do conjunto de dados é utilizado para os testes e 70% é utilizado para o treinamento\n",
    "    x_train, x_test, y_train, y_test = train_test_split(X, labels, test_size=0.3, random_state=42)\n",
    "\n",
    "    classifier.fit(x_train, y_train)\n",
    "    y_pred = classifier.predict(x_test)\n",
    "\n",
    "    # avaliação do modelo\n",
    "    print(classification_report(y_test, y_pred))"
   ]
  },
  {
   "cell_type": "code",
   "execution_count": 29,
   "metadata": {},
   "outputs": [
    {
     "name": "stdout",
     "output_type": "stream",
     "text": [
      "              precision    recall  f1-score   support\n",
      "\n",
      "    Negative       0.92      1.00      0.96        11\n",
      "    Positive       1.00      0.94      0.97        18\n",
      "\n",
      "    accuracy                           0.97        29\n",
      "   macro avg       0.96      0.97      0.96        29\n",
      "weighted avg       0.97      0.97      0.97        29\n",
      "\n"
     ]
    }
   ],
   "source": [
    "holdout(gnb)"
   ]
  },
  {
   "cell_type": "code",
   "execution_count": 30,
   "metadata": {},
   "outputs": [
    {
     "name": "stdout",
     "output_type": "stream",
     "text": [
      "              precision    recall  f1-score   support\n",
      "\n",
      "    Negative       0.73      1.00      0.85        11\n",
      "    Positive       1.00      0.78      0.88        18\n",
      "\n",
      "    accuracy                           0.86        29\n",
      "   macro avg       0.87      0.89      0.86        29\n",
      "weighted avg       0.90      0.86      0.86        29\n",
      "\n"
     ]
    }
   ],
   "source": [
    "holdout(mnb)"
   ]
  },
  {
   "cell_type": "code",
   "execution_count": 31,
   "metadata": {},
   "outputs": [
    {
     "name": "stdout",
     "output_type": "stream",
     "text": [
      "              precision    recall  f1-score   support\n",
      "\n",
      "    Negative       0.69      1.00      0.81        11\n",
      "    Positive       1.00      0.72      0.84        18\n",
      "\n",
      "    accuracy                           0.83        29\n",
      "   macro avg       0.84      0.86      0.83        29\n",
      "weighted avg       0.88      0.83      0.83        29\n",
      "\n"
     ]
    }
   ],
   "source": [
    "holdout(bnb)"
   ]
  },
  {
   "cell_type": "code",
   "execution_count": 32,
   "metadata": {},
   "outputs": [],
   "source": [
    "############# Validação Cruzada ############################\n",
    "def cross_validation(classifier):\n",
    "    num_folds = 5\n",
    "    fold_size = X.shape[0] // num_folds\n",
    "\n",
    "    total = 0\n",
    "\n",
    "    count_fold = 1\n",
    "    for i in range(num_folds):\n",
    "        # Dividindo os conjuntos para cada fold\n",
    "        start = i * fold_size\n",
    "        end = (i + 1) * fold_size\n",
    "        data_train = []\n",
    "        data_test = []\n",
    "        labels_train = []\n",
    "        labels_test = []\n",
    "\n",
    "        for j in range(0, start):\n",
    "            data_train.append(X[j])\n",
    "            labels_train.append(labels[j])\n",
    "\n",
    "        for j in range(end, X.shape[0]):\n",
    "            data_train.append(X[j])\n",
    "            labels_train.append(labels[j])\n",
    "\n",
    "        for j in range(start, end):\n",
    "            data_test.append(X[j])\n",
    "            labels_test.append(labels[j])   \n",
    "    \n",
    "        classifier.fit(data_train, labels_train)\n",
    "\n",
    "        # Avaliação modelo\n",
    "        y_pred = classifier.predict(data_test)\n",
    "        acc_score = accuracy_score(labels_test, y_pred)\n",
    "        total += acc_score\n",
    "        print(f'**********Fold {count_fold}****************')\n",
    "        print(f'Accuracy: {acc_score}\\n')\n",
    "\n",
    "        count_fold += 1\n",
    "\n",
    "    m_acc = total / num_folds\n",
    "    print(f'Average accuracy: {m_acc}')"
   ]
  },
  {
   "cell_type": "code",
   "execution_count": 33,
   "metadata": {},
   "outputs": [
    {
     "name": "stdout",
     "output_type": "stream",
     "text": [
      "**********Fold 1****************\n",
      "Accuracy: 1.0\n",
      "\n",
      "**********Fold 2****************\n",
      "Accuracy: 1.0\n",
      "\n",
      "**********Fold 3****************\n",
      "Accuracy: 0.8947368421052632\n",
      "\n",
      "**********Fold 4****************\n",
      "Accuracy: 0.8947368421052632\n",
      "\n",
      "**********Fold 5****************\n",
      "Accuracy: 1.0\n",
      "\n",
      "Average accuracy: 0.9578947368421054\n"
     ]
    }
   ],
   "source": [
    "cross_validation(gnb)"
   ]
  },
  {
   "cell_type": "code",
   "execution_count": 34,
   "metadata": {},
   "outputs": [
    {
     "name": "stdout",
     "output_type": "stream",
     "text": [
      "**********Fold 1****************\n",
      "Accuracy: 1.0\n",
      "\n",
      "**********Fold 2****************\n",
      "Accuracy: 0.8421052631578947\n",
      "\n",
      "**********Fold 3****************\n",
      "Accuracy: 0.7368421052631579\n",
      "\n",
      "**********Fold 4****************\n",
      "Accuracy: 0.8947368421052632\n",
      "\n",
      "**********Fold 5****************\n",
      "Accuracy: 1.0\n",
      "\n",
      "Average accuracy: 0.8947368421052632\n"
     ]
    }
   ],
   "source": [
    "cross_validation(mnb)"
   ]
  },
  {
   "cell_type": "code",
   "execution_count": 35,
   "metadata": {},
   "outputs": [
    {
     "name": "stdout",
     "output_type": "stream",
     "text": [
      "**********Fold 1****************\n",
      "Accuracy: 1.0\n",
      "\n",
      "**********Fold 2****************\n",
      "Accuracy: 0.7368421052631579\n",
      "\n",
      "**********Fold 3****************\n",
      "Accuracy: 0.7368421052631579\n",
      "\n",
      "**********Fold 4****************\n",
      "Accuracy: 0.8947368421052632\n",
      "\n",
      "**********Fold 5****************\n",
      "Accuracy: 1.0\n",
      "\n",
      "Average accuracy: 0.8736842105263157\n"
     ]
    }
   ],
   "source": [
    "cross_validation(bnb)"
   ]
  }
 ],
 "metadata": {
  "kernelspec": {
   "display_name": "Python 3",
   "language": "python",
   "name": "python3"
  },
  "language_info": {
   "codemirror_mode": {
    "name": "ipython",
    "version": 3
   },
   "file_extension": ".py",
   "mimetype": "text/x-python",
   "name": "python",
   "nbconvert_exporter": "python",
   "pygments_lexer": "ipython3",
   "version": "3.11.1"
  }
 },
 "nbformat": 4,
 "nbformat_minor": 2
}
